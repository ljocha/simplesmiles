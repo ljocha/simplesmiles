{
 "cells": [
  {
   "cell_type": "code",
   "execution_count": 18,
   "id": "52629535-2db8-496e-9ac3-4556825ebd9d",
   "metadata": {},
   "outputs": [],
   "source": [
    "from rdkit import Chem\n",
    "import pubchempy as pch"
   ]
  },
  {
   "cell_type": "code",
   "execution_count": 75,
   "id": "301412bb-75fc-4deb-a2bf-b11506ca89b6",
   "metadata": {},
   "outputs": [
    {
     "data": {
      "image/png": "[encoded data removed]",
      "text/plain": [
       "<rdkit.Chem.rdchem.Mol at 0x1218e1040>"
      ]
     },
     "execution_count": 75,
     "metadata": {},
     "output_type": "execute_result"
    }
   ],
   "source": [
    "smiles = 'CC(O)C(C)C(=O)c1c(C=O)cccc1'\n",
    "smiles = 'C(C)C(=O)c1c(C=O)cccc1'\n",
    "#smiles = 'c1ccccc1'\n",
    "mol=Chem.MolFromSmiles(smiles)\n",
    "mol"
   ]
  },
  {
   "cell_type": "code",
   "execution_count": 76,
   "id": "a652c867-e087-4614-b8cd-37b4858e859c",
   "metadata": {},
   "outputs": [
    {
     "data": {
      "text/plain": [
       "'CCC(=O)c1ccccc1C=O'"
      ]
     },
     "execution_count": 76,
     "metadata": {},
     "output_type": "execute_result"
    }
   ],
   "source": [
    "cansmi=Chem.MolToSmiles(mol)\n",
    "cansmi"
   ]
  },
  {
   "cell_type": "code",
   "execution_count": 77,
   "id": "a0edbba3-fb65-4b9b-ac17-4889d359412f",
   "metadata": {},
   "outputs": [
    {
     "name": "stdout",
     "output_type": "stream",
     "text": [
      "2-propanoylbenzaldehyde\n"
     ]
    }
   ],
   "source": [
    "compounds = pch.get_compounds(cansmi, namespace='smiles')\n",
    "match = compounds[0]\n",
    "print(match.iupac_name)\n"
   ]
  },
  {
   "cell_type": "code",
   "execution_count": 61,
   "id": "451aa3f6-d7a0-425b-9994-c2f46cf3b536",
   "metadata": {},
   "outputs": [
    {
     "name": "stdout",
     "output_type": "stream",
     "text": [
      "2-Acetylbenzaldehyde\n"
     ]
    }
   ],
   "source": [
    "import requests\n",
    "\n",
    "\n",
    "CACTUS = \"https://cactus.nci.nih.gov/chemical/structure/{0}/{1}\"\n",
    "\n",
    "\n",
    "def smiles_to_iupac(smiles):\n",
    "    rep = \"iupac_name\"\n",
    "    url = CACTUS.format(smiles, rep)\n",
    "    response = requests.get(url)\n",
    "    response.raise_for_status()\n",
    "    return response.text\n",
    "\n",
    "\n",
    "print(smiles_to_iupac(smiles))"
   ]
  },
  {
   "cell_type": "code",
   "execution_count": null,
   "id": "da0bb274-bbba-428c-b987-7e015fac48f1",
   "metadata": {},
   "outputs": [],
   "source": []
  }
 ],
 "metadata": {
  "kernelspec": {
   "display_name": "Python 3 (ipykernel)",
   "language": "python",
   "name": "python3"
  },
  "language_info": {
   "codemirror_mode": {
    "name": "ipython",
    "version": 3
   },
   "file_extension": ".py",
   "mimetype": "text/x-python",
   "name": "python",
   "nbconvert_exporter": "python",
   "pygments_lexer": "ipython3",
   "version": "3.9.6"
  }
 },
 "nbformat": 4,
 "nbformat_minor": 5
}
